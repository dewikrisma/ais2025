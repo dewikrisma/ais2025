{
 "cells": [
  {
   "cell_type": "markdown",
   "id": "1fe19118",
   "metadata": {},
   "source": [
    "<h1>Ship's Ownership Identification</h1>"
   ]
  },
  {
   "cell_type": "code",
   "execution_count": null,
   "id": "f84eb448-56a6-415c-a4fd-61cfd7ec013b",
   "metadata": {},
   "outputs": [],
   "source": [
    "# Menyiapkan Dataframe yang akan dimatching\n",
    "ais_check\n",
    "\n",
    "# Import fungsi khusus dari modul 'ais' untuk membaca dan mencocokkan data AIS dan IHS\n",
    "from ais import functions as af\n",
    "\n",
    "# Membaca file ShipData.CSV terbaru dari IHS ke dalam DataFrame Spark\n",
    "# Fungsi ini kemungkinan otomatis memilih versi file terbaru\n",
    "ship_data = af.read_latest_ihs_table(spark, 'ShipData.CSV')\n",
    "\n",
    "# --- Penanganan konflik nama kolom antara DataFrame AIS dan IHS ---\n",
    "\n",
    "# Ubah nama kolom 'callsign' di DataFrame AIS menjadi 'callsign_ais'\n",
    "# untuk menghindari duplikasi nama saat melakukan join atau matching\n",
    "ais_check = ais_check.withColumnRenamed(\"callsign\", \"callsign_ais\")\n",
    "\n",
    "# Ubah nama kolom 'callsign' di DataFrame IHS menjadi 'callsign_ihs'\n",
    "ship_data = ship_data.withColumnRenamed(\"callsign\", \"callsign_ihs\")\n",
    "\n",
    "# Ubah nama kolom 'Draught' di DataFrame AIS menjadi 'Draught_ais'\n",
    "ais_check = ais_check.withColumnRenamed(\"Draught\", \"Draught_ais\")\n",
    "\n",
    "# Ubah nama kolom 'Draught' di DataFrame IHS menjadi 'Draught_ihs'\n",
    "ship_data = ship_data.withColumnRenamed(\"Draught\", \"Draught_ihs\")\n",
    "\n",
    "# --- Proses pencocokan data antara AIS dan IHS ---\n",
    "\n",
    "# Melakukan pencocokan kapal antara data AIS (ais_check) dan IHS (ship_data)\n",
    "# menggunakan algoritma 'Levenshtein' untuk mengukur kesamaan string (misalnya nama kapal)\n",
    "# Threshold kemiripan yang digunakan adalah 0.3\n",
    "# Hasil pencocokan disimpan dalam DataFrame df_match\n",
    "df_match = af.match_ais_ihs(ais_check, ship_data, 'Levenshtein', 0.3)"
   ]
  },
  {
   "cell_type": "code",
   "execution_count": null,
   "id": "351348db-769f-4a6d-8f98-f649b0d909cb",
   "metadata": {},
   "outputs": [],
   "source": [
    "from IPython.display import HTML\n",
    "import base64  \n",
    "\n",
    "def create_download_link(spark_df, title=\"Download CSV file\", filename=\"match_1sd31_01_25_belawan.csv\"):  \n",
    "    # Konversi DataFrame Spark ke Pandas\n",
    "    df = spark_df.toPandas()\n",
    "    \n",
    "    # Simpan sebagai CSV dalam bentuk teks\n",
    "    csv = df.to_csv(index=False)\n",
    "    \n",
    "    # Encode ke base64\n",
    "    b64 = base64.b64encode(csv.encode()).decode()\n",
    "    \n",
    "    # Buat HTML link untuk download\n",
    "    html = f'<a download=\"{filename}\" href=\"data:text/csv;base64,{b64}\" target=\"_blank\">{title}</a>'\n",
    "    \n",
    "    return HTML(html)\n",
    "\n",
    "# Menyimpan hasil\n",
    "create_download_link(df_match)"
   ]
  }
 ],
 "metadata": {
  "kernelspec": {
   "display_name": "pyspark3.5 ais2.9",
   "language": "python3",
   "name": "pyspark-ais-nosedona-202403"
  },
  "language_info": {
   "codemirror_mode": {
    "name": "ipython",
    "version": 3
   },
   "file_extension": ".py",
   "mimetype": "text/x-python",
   "name": "python",
   "nbconvert_exporter": "python",
   "pygments_lexer": "ipython3",
   "version": "3.10.10"
  }
 },
 "nbformat": 4,
 "nbformat_minor": 5
}
